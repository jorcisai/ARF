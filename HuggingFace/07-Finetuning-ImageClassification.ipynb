{
  "nbformat": 4,
  "nbformat_minor": 0,
  "metadata": {
    "colab": {
      "provenance": [],
      "authorship_tag": "ABX9TyMyHhsAvo6AexUreUfr+0B+"
    },
    "kernelspec": {
      "name": "python3",
      "display_name": "Python 3"
    },
    "language_info": {
      "name": "python"
    }
  },
  "cells": [
    {
      "cell_type": "code",
      "execution_count": null,
      "metadata": {
        "id": "cQL1q3eY5Xe0"
      },
      "outputs": [],
      "source": [
        "!pip install transformers datasets evaluate"
      ]
    }
  ]
}