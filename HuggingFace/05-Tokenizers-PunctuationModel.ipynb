{
  "nbformat": 4,
  "nbformat_minor": 0,
  "metadata": {
    "colab": {
      "provenance": [],
      "authorship_tag": "ABX9TyMiCZyxdJ1p4gHCqD7zQN4h"
    },
    "kernelspec": {
      "name": "python3",
      "display_name": "Python 3"
    },
    "language_info": {
      "name": "python"
    },
    "widgets": {
      "application/vnd.jupyter.widget-state+json": {
        "7e1bf6063e51443dbd673cd71c927978": {
          "model_module": "@jupyter-widgets/controls",
          "model_name": "HBoxModel",
          "model_module_version": "1.5.0",
          "state": {
            "_dom_classes": [],
            "_model_module": "@jupyter-widgets/controls",
            "_model_module_version": "1.5.0",
            "_model_name": "HBoxModel",
            "_view_count": null,
            "_view_module": "@jupyter-widgets/controls",
            "_view_module_version": "1.5.0",
            "_view_name": "HBoxView",
            "box_style": "",
            "children": [
              "IPY_MODEL_7856ca7c0eef4399abb51de3ee4c5f71",
              "IPY_MODEL_bbd08ce5e63c490d9685b1e8666cde54",
              "IPY_MODEL_c18fe4daadd94a199a15632f47c16722"
            ],
            "layout": "IPY_MODEL_4785524017314a09ab758a55b3bf61a9"
          }
        },
        "7856ca7c0eef4399abb51de3ee4c5f71": {
          "model_module": "@jupyter-widgets/controls",
          "model_name": "HTMLModel",
          "model_module_version": "1.5.0",
          "state": {
            "_dom_classes": [],
            "_model_module": "@jupyter-widgets/controls",
            "_model_module_version": "1.5.0",
            "_model_name": "HTMLModel",
            "_view_count": null,
            "_view_module": "@jupyter-widgets/controls",
            "_view_module_version": "1.5.0",
            "_view_name": "HTMLView",
            "description": "",
            "description_tooltip": null,
            "layout": "IPY_MODEL_4cd8bbc6744843c0828e33fa67b721af",
            "placeholder": "​",
            "style": "IPY_MODEL_7564e89b6d9c475aaa08c7ea61127c37",
            "value": "Downloading (…)&quot;pytorch_model.bin&quot;;: 100%"
          }
        },
        "bbd08ce5e63c490d9685b1e8666cde54": {
          "model_module": "@jupyter-widgets/controls",
          "model_name": "FloatProgressModel",
          "model_module_version": "1.5.0",
          "state": {
            "_dom_classes": [],
            "_model_module": "@jupyter-widgets/controls",
            "_model_module_version": "1.5.0",
            "_model_name": "FloatProgressModel",
            "_view_count": null,
            "_view_module": "@jupyter-widgets/controls",
            "_view_module_version": "1.5.0",
            "_view_name": "ProgressView",
            "bar_style": "success",
            "description": "",
            "description_tooltip": null,
            "layout": "IPY_MODEL_108ec96f0e4b484a85c591691549e64b",
            "max": 435701303,
            "min": 0,
            "orientation": "horizontal",
            "style": "IPY_MODEL_ff514d3d9635400d9b61e0d1d12d6b2b",
            "value": 435701303
          }
        },
        "c18fe4daadd94a199a15632f47c16722": {
          "model_module": "@jupyter-widgets/controls",
          "model_name": "HTMLModel",
          "model_module_version": "1.5.0",
          "state": {
            "_dom_classes": [],
            "_model_module": "@jupyter-widgets/controls",
            "_model_module_version": "1.5.0",
            "_model_name": "HTMLModel",
            "_view_count": null,
            "_view_module": "@jupyter-widgets/controls",
            "_view_module_version": "1.5.0",
            "_view_name": "HTMLView",
            "description": "",
            "description_tooltip": null,
            "layout": "IPY_MODEL_ff0d2d714e924f5985cd55b9dc89dcb1",
            "placeholder": "​",
            "style": "IPY_MODEL_6a70c8386d2647b394cc6706eb4034d8",
            "value": " 436M/436M [00:05&lt;00:00, 67.0MB/s]"
          }
        },
        "4785524017314a09ab758a55b3bf61a9": {
          "model_module": "@jupyter-widgets/base",
          "model_name": "LayoutModel",
          "model_module_version": "1.2.0",
          "state": {
            "_model_module": "@jupyter-widgets/base",
            "_model_module_version": "1.2.0",
            "_model_name": "LayoutModel",
            "_view_count": null,
            "_view_module": "@jupyter-widgets/base",
            "_view_module_version": "1.2.0",
            "_view_name": "LayoutView",
            "align_content": null,
            "align_items": null,
            "align_self": null,
            "border": null,
            "bottom": null,
            "display": null,
            "flex": null,
            "flex_flow": null,
            "grid_area": null,
            "grid_auto_columns": null,
            "grid_auto_flow": null,
            "grid_auto_rows": null,
            "grid_column": null,
            "grid_gap": null,
            "grid_row": null,
            "grid_template_areas": null,
            "grid_template_columns": null,
            "grid_template_rows": null,
            "height": null,
            "justify_content": null,
            "justify_items": null,
            "left": null,
            "margin": null,
            "max_height": null,
            "max_width": null,
            "min_height": null,
            "min_width": null,
            "object_fit": null,
            "object_position": null,
            "order": null,
            "overflow": null,
            "overflow_x": null,
            "overflow_y": null,
            "padding": null,
            "right": null,
            "top": null,
            "visibility": null,
            "width": null
          }
        },
        "4cd8bbc6744843c0828e33fa67b721af": {
          "model_module": "@jupyter-widgets/base",
          "model_name": "LayoutModel",
          "model_module_version": "1.2.0",
          "state": {
            "_model_module": "@jupyter-widgets/base",
            "_model_module_version": "1.2.0",
            "_model_name": "LayoutModel",
            "_view_count": null,
            "_view_module": "@jupyter-widgets/base",
            "_view_module_version": "1.2.0",
            "_view_name": "LayoutView",
            "align_content": null,
            "align_items": null,
            "align_self": null,
            "border": null,
            "bottom": null,
            "display": null,
            "flex": null,
            "flex_flow": null,
            "grid_area": null,
            "grid_auto_columns": null,
            "grid_auto_flow": null,
            "grid_auto_rows": null,
            "grid_column": null,
            "grid_gap": null,
            "grid_row": null,
            "grid_template_areas": null,
            "grid_template_columns": null,
            "grid_template_rows": null,
            "height": null,
            "justify_content": null,
            "justify_items": null,
            "left": null,
            "margin": null,
            "max_height": null,
            "max_width": null,
            "min_height": null,
            "min_width": null,
            "object_fit": null,
            "object_position": null,
            "order": null,
            "overflow": null,
            "overflow_x": null,
            "overflow_y": null,
            "padding": null,
            "right": null,
            "top": null,
            "visibility": null,
            "width": null
          }
        },
        "7564e89b6d9c475aaa08c7ea61127c37": {
          "model_module": "@jupyter-widgets/controls",
          "model_name": "DescriptionStyleModel",
          "model_module_version": "1.5.0",
          "state": {
            "_model_module": "@jupyter-widgets/controls",
            "_model_module_version": "1.5.0",
            "_model_name": "DescriptionStyleModel",
            "_view_count": null,
            "_view_module": "@jupyter-widgets/base",
            "_view_module_version": "1.2.0",
            "_view_name": "StyleView",
            "description_width": ""
          }
        },
        "108ec96f0e4b484a85c591691549e64b": {
          "model_module": "@jupyter-widgets/base",
          "model_name": "LayoutModel",
          "model_module_version": "1.2.0",
          "state": {
            "_model_module": "@jupyter-widgets/base",
            "_model_module_version": "1.2.0",
            "_model_name": "LayoutModel",
            "_view_count": null,
            "_view_module": "@jupyter-widgets/base",
            "_view_module_version": "1.2.0",
            "_view_name": "LayoutView",
            "align_content": null,
            "align_items": null,
            "align_self": null,
            "border": null,
            "bottom": null,
            "display": null,
            "flex": null,
            "flex_flow": null,
            "grid_area": null,
            "grid_auto_columns": null,
            "grid_auto_flow": null,
            "grid_auto_rows": null,
            "grid_column": null,
            "grid_gap": null,
            "grid_row": null,
            "grid_template_areas": null,
            "grid_template_columns": null,
            "grid_template_rows": null,
            "height": null,
            "justify_content": null,
            "justify_items": null,
            "left": null,
            "margin": null,
            "max_height": null,
            "max_width": null,
            "min_height": null,
            "min_width": null,
            "object_fit": null,
            "object_position": null,
            "order": null,
            "overflow": null,
            "overflow_x": null,
            "overflow_y": null,
            "padding": null,
            "right": null,
            "top": null,
            "visibility": null,
            "width": null
          }
        },
        "ff514d3d9635400d9b61e0d1d12d6b2b": {
          "model_module": "@jupyter-widgets/controls",
          "model_name": "ProgressStyleModel",
          "model_module_version": "1.5.0",
          "state": {
            "_model_module": "@jupyter-widgets/controls",
            "_model_module_version": "1.5.0",
            "_model_name": "ProgressStyleModel",
            "_view_count": null,
            "_view_module": "@jupyter-widgets/base",
            "_view_module_version": "1.2.0",
            "_view_name": "StyleView",
            "bar_color": null,
            "description_width": ""
          }
        },
        "ff0d2d714e924f5985cd55b9dc89dcb1": {
          "model_module": "@jupyter-widgets/base",
          "model_name": "LayoutModel",
          "model_module_version": "1.2.0",
          "state": {
            "_model_module": "@jupyter-widgets/base",
            "_model_module_version": "1.2.0",
            "_model_name": "LayoutModel",
            "_view_count": null,
            "_view_module": "@jupyter-widgets/base",
            "_view_module_version": "1.2.0",
            "_view_name": "LayoutView",
            "align_content": null,
            "align_items": null,
            "align_self": null,
            "border": null,
            "bottom": null,
            "display": null,
            "flex": null,
            "flex_flow": null,
            "grid_area": null,
            "grid_auto_columns": null,
            "grid_auto_flow": null,
            "grid_auto_rows": null,
            "grid_column": null,
            "grid_gap": null,
            "grid_row": null,
            "grid_template_areas": null,
            "grid_template_columns": null,
            "grid_template_rows": null,
            "height": null,
            "justify_content": null,
            "justify_items": null,
            "left": null,
            "margin": null,
            "max_height": null,
            "max_width": null,
            "min_height": null,
            "min_width": null,
            "object_fit": null,
            "object_position": null,
            "order": null,
            "overflow": null,
            "overflow_x": null,
            "overflow_y": null,
            "padding": null,
            "right": null,
            "top": null,
            "visibility": null,
            "width": null
          }
        },
        "6a70c8386d2647b394cc6706eb4034d8": {
          "model_module": "@jupyter-widgets/controls",
          "model_name": "DescriptionStyleModel",
          "model_module_version": "1.5.0",
          "state": {
            "_model_module": "@jupyter-widgets/controls",
            "_model_module_version": "1.5.0",
            "_model_name": "DescriptionStyleModel",
            "_view_count": null,
            "_view_module": "@jupyter-widgets/base",
            "_view_module_version": "1.2.0",
            "_view_name": "StyleView",
            "description_width": ""
          }
        }
      }
    }
  },
  "cells": [
    {
      "cell_type": "code",
      "source": [
        "!pip install datasets evaluate transformers[sentencepiece]"
      ],
      "metadata": {
        "id": "aql9Ewc6qghA"
      },
      "execution_count": null,
      "outputs": []
    },
    {
      "cell_type": "code",
      "source": [
        "from transformers import AutoConfig\n",
        "\n",
        "checkpoint = \"felflare/bert-restore-punctuation\"\n",
        "config = AutoConfig.from_pretrained(checkpoint)\n",
        "print(config)"
      ],
      "metadata": {
        "id": "7tJuk2sSuCWu"
      },
      "execution_count": null,
      "outputs": []
    },
    {
      "cell_type": "code",
      "execution_count": 8,
      "metadata": {
        "id": "Jh9hF-cjqTvf"
      },
      "outputs": [],
      "source": [
        "from transformers import BertTokenizer\n",
        "\n",
        "checkpoint = \"felflare/bert-restore-punctuation\"\n",
        "tokenizer = BertTokenizer.from_pretrained(checkpoint)"
      ]
    },
    {
      "cell_type": "code",
      "source": [
        "raw_inputs = [\"in 2018 cornell researchers built a high-powered detector that in combination with an algorithm-driven process called ptychography set a world record by tripling the resolution of a state-of-the-art electron microscope as successful as it was that approach had a weakness it only worked with ultrathin samples that were a few atoms thick anything thicker would cause the electrons to scatter in ways that could not be disentangled now a team again led by david muller the samuel beckert professor of engineering has bested its own record by a factor of two with an electron microscope pixel array detector empad that incorporates even more sophisticated 3d reconstruction algorithms the resolution is so fine-tuned the only blurring that remains is the thermal jiggling of the atoms themselves\"]\n",
        "inputs = tokenizer(raw_inputs, return_tensors=\"pt\")"
      ],
      "metadata": {
        "id": "HVDFDsA1qnwV"
      },
      "execution_count": 37,
      "outputs": []
    },
    {
      "cell_type": "code",
      "source": [
        "from transformers import BertForTokenClassification\n",
        "\n",
        "checkpoint = \"felflare/bert-restore-punctuation\"\n",
        "model = BertForTokenClassification.from_pretrained(checkpoint)"
      ],
      "metadata": {
        "id": "5q3cXNbQq0le",
        "outputId": "277af4ad-fffd-415b-8cb1-8494205ab756",
        "colab": {
          "base_uri": "https://localhost:8080/",
          "height": 49,
          "referenced_widgets": [
            "7e1bf6063e51443dbd673cd71c927978",
            "7856ca7c0eef4399abb51de3ee4c5f71",
            "bbd08ce5e63c490d9685b1e8666cde54",
            "c18fe4daadd94a199a15632f47c16722",
            "4785524017314a09ab758a55b3bf61a9",
            "4cd8bbc6744843c0828e33fa67b721af",
            "7564e89b6d9c475aaa08c7ea61127c37",
            "108ec96f0e4b484a85c591691549e64b",
            "ff514d3d9635400d9b61e0d1d12d6b2b",
            "ff0d2d714e924f5985cd55b9dc89dcb1",
            "6a70c8386d2647b394cc6706eb4034d8"
          ]
        }
      },
      "execution_count": 27,
      "outputs": [
        {
          "output_type": "display_data",
          "data": {
            "text/plain": [
              "Downloading (…)\"pytorch_model.bin\";:   0%|          | 0.00/436M [00:00<?, ?B/s]"
            ],
            "application/vnd.jupyter.widget-view+json": {
              "version_major": 2,
              "version_minor": 0,
              "model_id": "7e1bf6063e51443dbd673cd71c927978"
            }
          },
          "metadata": {}
        }
      ]
    },
    {
      "cell_type": "code",
      "source": [
        "outputs = model(**inputs)"
      ],
      "metadata": {
        "id": "FHNDqYbIr0ht"
      },
      "execution_count": 28,
      "outputs": []
    },
    {
      "cell_type": "code",
      "source": [
        "import torch\n",
        "\n",
        "predictions = torch.nn.functional.softmax(outputs.logits, dim=-1)\n",
        "print(predictions)"
      ],
      "metadata": {
        "colab": {
          "base_uri": "https://localhost:8080/"
        },
        "id": "nT3GgL5OsBIp",
        "outputId": "36af9d66-fcfc-4417-9085-f85444a329cd"
      },
      "execution_count": 29,
      "outputs": [
        {
          "output_type": "stream",
          "name": "stdout",
          "text": [
            "tensor([[[1.6809e-01, 5.6617e-01, 3.3986e-02,  ..., 6.5761e-03,\n",
            "          7.3991e-03, 1.8238e-03],\n",
            "         [9.9448e-01, 3.4018e-04, 3.7364e-05,  ..., 5.9698e-05,\n",
            "          1.1287e-04, 2.2665e-04],\n",
            "         [1.3555e-04, 1.5587e-01, 1.7322e-03,  ..., 1.1202e-03,\n",
            "          5.9281e-04, 2.8866e-05],\n",
            "         ...,\n",
            "         [6.2292e-04, 9.9739e-01, 1.5162e-04,  ..., 2.0648e-05,\n",
            "          1.4590e-05, 6.7091e-07],\n",
            "         [2.8023e-04, 2.2620e-01, 6.4297e-01,  ..., 7.4284e-03,\n",
            "          5.5669e-04, 2.0336e-05],\n",
            "         [2.1335e-01, 1.8468e-01, 7.7130e-02,  ..., 3.5172e-02,\n",
            "          3.1971e-02, 1.8259e-02]]], grad_fn=<SoftmaxBackward0>)\n"
          ]
        }
      ]
    },
    {
      "cell_type": "code",
      "source": [
        "preds = torch.argmax(predictions,dim=-1).numpy()\n",
        "print(preds)"
      ],
      "metadata": {
        "colab": {
          "base_uri": "https://localhost:8080/"
        },
        "id": "snL5OTiwsUuW",
        "outputId": "9b44c619-e76a-4983-8fb4-2ff7ac7c235d"
      },
      "execution_count": 30,
      "outputs": [
        {
          "output_type": "stream",
          "name": "stdout",
          "text": [
            "[[1 0 4 0 1 1 1 1 1 1 1 4 1 1 1 1 1 1 1 1 1 7 7 4 1 1 1 1 1 1 1 1 1 1 1 1\n",
            "  1 1 1 1 1 1 1 2 0 1 1 1 4 1 1 1 1 2 0 1 1 1 1 1 1 1 1 1 1 1 1 2 0 1 1 1\n",
            "  1 1 1 1 1 1 1 1 1 1 1 2 2 2 7 1 1 1 1 1 0 7 1 0 0 0 0 1 7 1 1 1 1 1 1 1\n",
            "  1 1 1 1 1 1 1 1 1 1 1 1 1 1 1 1 1 1 1 1 2 0 1 1 1 1 1 4 1 1 1 1 1 1 1 1\n",
            "  1 1 1 1 1 1 1 2 0]]\n"
          ]
        }
      ]
    },
    {
      "cell_type": "code",
      "source": [
        "    def punctuate_texts(full_pred: list):\n",
        "        \"\"\"\n",
        "        Given a list of Predictions from the model, applies the predictions to text,\n",
        "        thus punctuating it.\n",
        "        \"\"\"\n",
        "        punct_resp = \"\"\n",
        "        for i in full_pred:\n",
        "            word, label = i            \n",
        "            if label[-1] == \"U\":\n",
        "                punct_wrd = word.capitalize()\n",
        "            else:\n",
        "                punct_wrd = word\n",
        "            if label[0] != \"O\":\n",
        "                punct_wrd += label[0]\n",
        "            punct_resp += punct_wrd + \" \"   \n",
        "        punct_resp = punct_resp.strip()\n",
        "        # Append trailing period if doesnt exist.\n",
        "        if punct_resp[-1].isalnum():\n",
        "            punct_resp += \".\"\n",
        "        return punct_resp"
      ],
      "metadata": {
        "id": "BSGJM5nEtiLM"
      },
      "execution_count": 76,
      "outputs": []
    },
    {
      "cell_type": "code",
      "source": [
        "valid_labels = ['OU', 'OO', '.O', '!O', ',O', '.U', '!U', ',U', ':O', ';O', ':U', \"'O\", '-O', '?O', '?U']\n",
        "for n in range(len(raw_inputs)):\n",
        "  full_pred = []\n",
        "  words = raw_inputs[n].split()\n",
        "  fertility = [len(tokenizer.encode(x, add_special_tokens=False)) for x in words]\n",
        "  j=1\n",
        "  for i,word in enumerate(words):\n",
        "    full_pred.append((word,valid_labels[preds[n][j]]))\n",
        "    j+=fertility[i]\n",
        "  print(punctuate_texts(full_pred))\n"
      ],
      "metadata": {
        "id": "ZKCzv0WxR_mS",
        "outputId": "c584525d-64eb-462b-fa31-669129198a34",
        "colab": {
          "base_uri": "https://localhost:8080/"
        }
      },
      "execution_count": 77,
      "outputs": [
        {
          "output_type": "stream",
          "name": "stdout",
          "text": [
            "In 2018, Cornell researchers built a high-powered detector that, in combination with an algorithm-driven process called Ptychography, set a world record by tripling the resolution of a state-of-the-art electron microscope. As successful as it was, that approach had a weakness. It only worked with ultrathin samples that were a few atoms thick. Anything thicker would cause the electrons to scatter in ways that could not be disentangled. Now, a team again led by David Muller, the Samuel Beckert Professor of Engineering, has bested its own record by a factor of two with an electron microscope pixel array detector empad that incorporates even more sophisticated 3d reconstruction algorithms. The resolution is so fine-tuned the only blurring that remains is the thermal jiggling of the atoms themselves.\n"
          ]
        }
      ]
    }
  ]
}