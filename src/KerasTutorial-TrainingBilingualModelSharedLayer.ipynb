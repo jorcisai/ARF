{
  "nbformat": 4,
  "nbformat_minor": 0,
  "metadata": {
    "colab": {
      "name": "KerasTutorial-TrainingBilingualModelSharedLayer.ipynb",
      "provenance": [],
      "private_outputs": true,
      "collapsed_sections": [],
      "machine_shape": "hm",
      "include_colab_link": true
    },
    "kernelspec": {
      "name": "python3",
      "display_name": "Python 3"
    },
    "accelerator": "GPU"
  },
  "cells": [
    {
      "cell_type": "markdown",
      "metadata": {
        "id": "view-in-github",
        "colab_type": "text"
      },
      "source": [
        "<a href=\"https://colab.research.google.com/github/jorcisai/ARF/blob/master/src/KerasTutorial-TrainingBilingualModelSharedLayer.ipynb\" target=\"_parent\"><img src=\"https://colab.research.google.com/assets/colab-badge.svg\" alt=\"Open In Colab\"/></a>"
      ]
    },
    {
      "cell_type": "markdown",
      "metadata": {
        "colab_type": "text",
        "id": "NWeQAo0Ec_BL"
      },
      "source": [
        "#Bilingual text classifier using own trained word embeddings and shared bidirectional LSTMs"
      ]
    },
    {
      "cell_type": "markdown",
      "metadata": {
        "colab_type": "text",
        "id": "fgZ9gjmPfSnK"
      },
      "source": [
        "## Imports\n",
        "Importing standard packages and tensorflow_datasets to ease data manipulation."
      ]
    },
    {
      "cell_type": "code",
      "metadata": {
        "colab_type": "code",
        "id": "baYFZMW_bJHh",
        "colab": {}
      },
      "source": [
        "from __future__ import absolute_import, division, print_function, unicode_literals\n",
        "\n",
        "try:\n",
        "  # %tensorflow_version only exists in Colab.\n",
        "  %tensorflow_version 2.x\n",
        "except Exception:\n",
        "  pass\n",
        "  \n",
        "import tensorflow as tf\n",
        "import os\n",
        "\n",
        "import tensorflow_datasets as tfds"
      ],
      "execution_count": 0,
      "outputs": []
    },
    {
      "cell_type": "markdown",
      "metadata": {
        "colab_type": "text",
        "id": "-DtIDiZkhAaB"
      },
      "source": [
        "Data loading from local file system. Please use the \"traveler\" dataset available in the \"dat\" directory of the GitHub:"
      ]
    },
    {
      "cell_type": "code",
      "metadata": {
        "id": "9uS3QuPcgm92",
        "colab_type": "code",
        "colab": {}
      },
      "source": [
        "from google.colab import files\n",
        "\n",
        "uploaded = files.upload()\n",
        "for fn in uploaded.keys():\n",
        "  datafn=fn;\n",
        "\n",
        "print(\"Data file: \",datafn)"
      ],
      "execution_count": 0,
      "outputs": []
    },
    {
      "cell_type": "markdown",
      "metadata": {
        "id": "vycakl4thjN2",
        "colab_type": "text"
      },
      "source": [
        "## Load text data from local file\n",
        "\n",
        "Parsing file line by line to extract class label, source and target sentences. All three are lists of strings."
      ]
    },
    {
      "cell_type": "code",
      "metadata": {
        "id": "8L-vKS7Bh-CJ",
        "colab_type": "code",
        "colab": {}
      },
      "source": [
        "numsamples=0\n",
        "labs=[]\n",
        "srcs=[]\n",
        "trgs=[]\n",
        "for line in open(datafn):\n",
        "  numsamples+=1\n",
        "  words = line.split(\" \")\n",
        "  labs.append(words[0])\n",
        "  pos=words.index(\"#\")\n",
        "  srcs.append(\" \".join(words[1:pos-1]))\n",
        "  trgs.append(\" \".join(words[pos+1:]))"
      ],
      "execution_count": 0,
      "outputs": []
    },
    {
      "cell_type": "markdown",
      "metadata": {
        "id": "FtZVTyI3nQ5i",
        "colab_type": "text"
      },
      "source": [
        "Loading class labels, source (Spanish) and target (English) sentences from lists into dataset objects."
      ]
    },
    {
      "cell_type": "code",
      "metadata": {
        "id": "F_CsoAaPlz8l",
        "colab_type": "code",
        "colab": {}
      },
      "source": [
        "labs_dataset = tf.data.Dataset.from_tensor_slices(labs)"
      ],
      "execution_count": 0,
      "outputs": []
    },
    {
      "cell_type": "code",
      "metadata": {
        "id": "_0Vu4Ge2pwZa",
        "colab_type": "code",
        "colab": {}
      },
      "source": [
        "srcs_dataset = tf.data.Dataset.from_tensor_slices(srcs)"
      ],
      "execution_count": 0,
      "outputs": []
    },
    {
      "cell_type": "code",
      "metadata": {
        "id": "3yLSKCB0F_Jr",
        "colab_type": "code",
        "colab": {}
      },
      "source": [
        "trgs_dataset = tf.data.Dataset.from_tensor_slices(trgs)"
      ],
      "execution_count": 0,
      "outputs": []
    },
    {
      "cell_type": "markdown",
      "metadata": {
        "id": "SJl1pEUPHoxe",
        "colab_type": "text"
      },
      "source": [
        "Taking a look at the class labels and source sentences after being converted into dataset type. In this example, the source sentences are used to train the model including word embedding."
      ]
    },
    {
      "cell_type": "code",
      "metadata": {
        "id": "zPsynLIHICqC",
        "colab_type": "code",
        "colab": {}
      },
      "source": [
        "for lab in labs_dataset.take(5):\n",
        "  print(lab)"
      ],
      "execution_count": 0,
      "outputs": []
    },
    {
      "cell_type": "code",
      "metadata": {
        "id": "Q_eCQoF3p70Z",
        "colab_type": "code",
        "colab": {}
      },
      "source": [
        "for src in srcs_dataset.take(5):\n",
        "  print(src)"
      ],
      "execution_count": 0,
      "outputs": []
    },
    {
      "cell_type": "code",
      "metadata": {
        "id": "87aa69dURsRj",
        "colab_type": "code",
        "colab": {}
      },
      "source": [
        "for trg in trgs_dataset.take(5):\n",
        "  print(trg)"
      ],
      "execution_count": 0,
      "outputs": []
    },
    {
      "cell_type": "markdown",
      "metadata": {
        "id": "8h2L5p67OcOF",
        "colab_type": "text"
      },
      "source": [
        "## Data preprocessing"
      ]
    },
    {
      "cell_type": "markdown",
      "metadata": {
        "id": "Sk6hgqNgOjG2",
        "colab_type": "text"
      },
      "source": [
        "Obtaining the set of class labels to map them into integers and computing the number of classes. It requires to extract the string from the tf.Tensor object and then map"
      ]
    },
    {
      "cell_type": "code",
      "metadata": {
        "id": "_iUCjqqNOk5q",
        "colab_type": "code",
        "colab": {}
      },
      "source": [
        "label_set = set()\n",
        "for lab_tensor in labs_dataset:\n",
        "  label_set.add(lab_tensor.numpy().decode('utf-8'))\n",
        "  \n",
        "num_classes=len(label_set)\n",
        "\n",
        "lab2id = {}\n",
        "for lab_id,lab in enumerate(label_set):\n",
        "  lab2id[lab]=lab_id"
      ],
      "execution_count": 0,
      "outputs": []
    },
    {
      "cell_type": "markdown",
      "metadata": {
        "id": "FHVpmcjIOpmv",
        "colab_type": "text"
      },
      "source": [
        "You can check the assignment of class label to integer label"
      ]
    },
    {
      "cell_type": "code",
      "metadata": {
        "id": "YzWj8WjSOtAM",
        "colab_type": "code",
        "colab": {}
      },
      "source": [
        "for key,value in lab2id.items():\n",
        "  print (key,value)"
      ],
      "execution_count": 0,
      "outputs": []
    },
    {
      "cell_type": "markdown",
      "metadata": {
        "id": "YEgTAK3M_JQJ",
        "colab_type": "text"
      },
      "source": [
        "Apply `Dataset.map` to each element of the dataset using the encoder as a function. `Dataset.map` runs in graph mode.\n",
        "\n",
        "* Graph tensors do not have a value. \n",
        "* In graph mode you can only use TensorFlow Ops and functions. \n",
        "\n",
        "So you can't `.map` this function directly: You need to wrap it in a `tf.py_function`. The `tf.py_function` will pass regular tensors (with a value and a `.numpy()` method to access it), to the wrapped python function.\n",
        "\n",
        "Converting author labels <b>A</b>, <b>F</b>, <b>J</b> and <b>P</b> into integers for the whole dataset."
      ]
    },
    {
      "cell_type": "code",
      "metadata": {
        "id": "5IyQM-54ne08",
        "colab_type": "code",
        "colab": {}
      },
      "source": [
        "def author_labeler(text_lab: tf.Tensor):\n",
        "  int_lab = lab2id[text_lab.numpy().decode('utf-8')]\n",
        "  return int_lab\n",
        "\n",
        "def lab_map_fn(text_lab):\n",
        "  # py_func doesn't set the shape of the returned tensors.\n",
        "  int_lab = tf.py_function(func=author_labeler, inp=[text_lab], Tout=tf.int64)\n",
        "  # tf.data.Datasets need to set the shapes manually\n",
        "  int_lab.set_shape([])\n",
        "  return int_lab\n",
        "\n",
        "labs_encoded_dataset = labs_dataset.map(lab_map_fn)\n"
      ],
      "execution_count": 0,
      "outputs": []
    },
    {
      "cell_type": "markdown",
      "metadata": {
        "id": "2W_hx64NHWsN",
        "colab_type": "text"
      },
      "source": [
        "You can check how a few class samples look like after being mapped "
      ]
    },
    {
      "cell_type": "code",
      "metadata": {
        "id": "02-jGUtioX0-",
        "colab_type": "code",
        "colab": {}
      },
      "source": [
        "for lab in labs_encoded_dataset.take(5):\n",
        "  print(lab)"
      ],
      "execution_count": 0,
      "outputs": []
    },
    {
      "cell_type": "markdown",
      "metadata": {
        "id": "KPA5d3kcoHVr",
        "colab_type": "text"
      },
      "source": [
        "Build the vocabulary of a set of sentences by tokenizing each sentence and adding the resulting tokens into a set of of individual unique words. For this tutorial:\n",
        "<ol>\n",
        "<li> Iterate over each sentence's numpy value.</li>\n",
        "<li> Use tfds.deprecated.text.Tokenizer to split it into tokens.</li>\n",
        "<li> Collect these tokens into a Python set, to remove duplicates.</li>\n",
        "</ol>"
      ]
    },
    {
      "cell_type": "code",
      "metadata": {
        "id": "nOt34nTOAm48",
        "colab_type": "code",
        "colab": {}
      },
      "source": [
        "tokenizer = tfds.deprecated.text.Tokenizer()\n",
        "\n",
        "src_vocabulary_set = set()\n",
        "for text_tensor in srcs_dataset:\n",
        "  tokens = tokenizer.tokenize(text_tensor.numpy())\n",
        "  src_vocabulary_set.update(tokens)\n",
        "  \n",
        "src_vocab_size=len(src_vocabulary_set)"
      ],
      "execution_count": 0,
      "outputs": []
    },
    {
      "cell_type": "code",
      "metadata": {
        "id": "85b8QjXSGkV1",
        "colab_type": "code",
        "colab": {}
      },
      "source": [
        "print(src_vocabulary_set)"
      ],
      "execution_count": 0,
      "outputs": []
    },
    {
      "cell_type": "code",
      "metadata": {
        "id": "7nAfYR6akwkD",
        "colab_type": "code",
        "colab": {}
      },
      "source": [
        "print(src_vocab_size)"
      ],
      "execution_count": 0,
      "outputs": []
    },
    {
      "cell_type": "code",
      "metadata": {
        "id": "RnHw8uXsPGlx",
        "colab_type": "code",
        "colab": {}
      },
      "source": [
        "tokenizer = tfds.deprecated.text.Tokenizer()\n",
        "\n",
        "trg_vocabulary_set = set()\n",
        "for text_tensor in trgs_dataset:\n",
        "  tokens = tokenizer.tokenize(text_tensor.numpy())\n",
        "  trg_vocabulary_set.update(tokens)\n",
        "  \n",
        "trg_vocab_size=len(trg_vocabulary_set)"
      ],
      "execution_count": 0,
      "outputs": []
    },
    {
      "cell_type": "code",
      "metadata": {
        "id": "fFN_sM4EPO9I",
        "colab_type": "code",
        "colab": {}
      },
      "source": [
        "print(trg_vocabulary_set)"
      ],
      "execution_count": 0,
      "outputs": []
    },
    {
      "cell_type": "code",
      "metadata": {
        "id": "avwcaNj7POv4",
        "colab_type": "code",
        "colab": {}
      },
      "source": [
        "print(trg_vocab_size)"
      ],
      "execution_count": 0,
      "outputs": []
    },
    {
      "cell_type": "markdown",
      "metadata": {
        "id": "ylqvz4D4pNhG",
        "colab_type": "text"
      },
      "source": [
        "Create an encoder by passing the vocabulary_set to tfds.deprecated.text.TokenTextEncoder. The encoder's encode method takes in a string of text and returns a list of integers."
      ]
    },
    {
      "cell_type": "code",
      "metadata": {
        "id": "Ama-wKuyBLkZ",
        "colab_type": "code",
        "colab": {}
      },
      "source": [
        "src_encoder = tfds.deprecated.text.TokenTextEncoder(src_vocabulary_set)"
      ],
      "execution_count": 0,
      "outputs": []
    },
    {
      "cell_type": "code",
      "metadata": {
        "id": "dCPJjlXxPaSQ",
        "colab_type": "code",
        "colab": {}
      },
      "source": [
        "trg_encoder = tfds.deprecated.text.TokenTextEncoder(trg_vocabulary_set)"
      ],
      "execution_count": 0,
      "outputs": []
    },
    {
      "cell_type": "code",
      "metadata": {
        "id": "XVMcUXwcEoXn",
        "colab_type": "code",
        "colab": {}
      },
      "source": [
        "for src in srcs_dataset.take(5):\n",
        "  print(src_encoder.encode(src.numpy()))"
      ],
      "execution_count": 0,
      "outputs": []
    },
    {
      "cell_type": "code",
      "metadata": {
        "id": "gK9EUxJNPf6r",
        "colab_type": "code",
        "colab": {}
      },
      "source": [
        "for trg in trgs_dataset.take(5):\n",
        "  print(trg_encoder.encode(trg.numpy()))"
      ],
      "execution_count": 0,
      "outputs": []
    },
    {
      "cell_type": "markdown",
      "metadata": {
        "id": "kplPAlVwpc3v",
        "colab_type": "text"
      },
      "source": [
        "Mapping tokens of source sentences into list of integers."
      ]
    },
    {
      "cell_type": "code",
      "metadata": {
        "id": "eTZ4qc3bCfQ_",
        "colab_type": "code",
        "colab": {}
      },
      "source": [
        "def src_encode(text_tensor):\n",
        "  src_encoded_text = src_encoder.encode(text_tensor.numpy())\n",
        "  return [src_encoded_text]\n",
        "\n",
        "def src_encode_map_fn(text_tensor):\n",
        "  # py_func doesn't set the shape of the returned tensors.\n",
        "  src_encoded_text = tf.py_function(src_encode, inp=[text_tensor], Tout=tf.int64)\n",
        "  #tf.data.Datasets need to set the shapes manually \n",
        "  src_encoded_text.set_shape([None])\n",
        "  return src_encoded_text\n",
        "\n",
        "srcs_encoded_dataset = srcs_dataset.map(src_encode_map_fn)"
      ],
      "execution_count": 0,
      "outputs": []
    },
    {
      "cell_type": "markdown",
      "metadata": {
        "id": "MV_kmDgJ-_qe",
        "colab_type": "text"
      },
      "source": [
        "Mapping tokens of target sentences into list of integers.\n"
      ]
    },
    {
      "cell_type": "code",
      "metadata": {
        "id": "gukF_mszP0fK",
        "colab_type": "code",
        "colab": {}
      },
      "source": [
        "def trg_encode(text_tensor):\n",
        "  trg_encoded_text = trg_encoder.encode(text_tensor.numpy())\n",
        "  return [trg_encoded_text]\n",
        "\n",
        "def trg_encode_map_fn(text_tensor):\n",
        "  # py_func doesn't set the shape of the returned tensors.\n",
        "  trg_encoded_text = tf.py_function(trg_encode, inp=[text_tensor], Tout=tf.int64)\n",
        "  #tf.data.Datasets need to set the shapes manually \n",
        "  trg_encoded_text.set_shape([None])\n",
        "  return trg_encoded_text\n",
        "\n",
        "trgs_encoded_dataset = trgs_dataset.map(trg_encode_map_fn)"
      ],
      "execution_count": 0,
      "outputs": []
    },
    {
      "cell_type": "markdown",
      "metadata": {
        "id": "wCJTOPBHMTy9",
        "colab_type": "text"
      },
      "source": [
        "Checking the result of applying the mapping to the source and target sentences"
      ]
    },
    {
      "cell_type": "code",
      "metadata": {
        "id": "jQUeDJC74gEn",
        "colab_type": "code",
        "colab": {}
      },
      "source": [
        "for src in srcs_encoded_dataset.take(5):\n",
        "  print(src)"
      ],
      "execution_count": 0,
      "outputs": []
    },
    {
      "cell_type": "code",
      "metadata": {
        "id": "im0cOgDHSIqV",
        "colab_type": "code",
        "colab": {}
      },
      "source": [
        "for trg in trgs_encoded_dataset.take(5):\n",
        "  print(trg)"
      ],
      "execution_count": 0,
      "outputs": []
    },
    {
      "cell_type": "markdown",
      "metadata": {
        "id": "mvmTVHBFrovc",
        "colab_type": "text"
      },
      "source": [
        "First, zipping source and target datasets into a dataset of (source, target) sentences. Then, zipping (source target) dataset with the label dataset, so that we have a ((source, target), label) dataset."
      ]
    },
    {
      "cell_type": "code",
      "metadata": {
        "id": "g2ErAFTtrUYC",
        "colab_type": "code",
        "colab": {}
      },
      "source": [
        "dataset = tf.data.Dataset.zip((tf.data.Dataset.zip((srcs_encoded_dataset, trgs_encoded_dataset)), labs_encoded_dataset)) "
      ],
      "execution_count": 0,
      "outputs": []
    },
    {
      "cell_type": "code",
      "metadata": {
        "id": "deiJp8uRMgrm",
        "colab_type": "code",
        "colab": {}
      },
      "source": [
        "for sample in dataset.take(5):\n",
        "  print(sample)"
      ],
      "execution_count": 0,
      "outputs": []
    },
    {
      "cell_type": "markdown",
      "metadata": {
        "colab_type": "text",
        "id": "_YZToSXSm0qr"
      },
      "source": [
        "## Experimental design\n",
        "\n",
        "Use `tf.data.Dataset.take` and `tf.data.Dataset.skip` to split dataset into 50% for training, 20% for validation and 30% for test.\n",
        "\n",
        "Before being passed into the model, the datasets need to be shuffled and batched. So, first, the complete dataset is shuffled with a fixed seed so that we can repeat the same shuffle of the dataset, then the dataset is split into training, validation and test, and each of these subsets is batched.\n",
        "\n",
        "Typically, the examples inside of a batch need to be the same size and shape. But, the examples in these datasets are not all the same size — each line of text had a different number of words. So use `tf.data.Dataset.padded_batch` (instead of `batch`) to pad the examples to the same size."
      ]
    },
    {
      "cell_type": "code",
      "metadata": {
        "colab_type": "code",
        "id": "r-rmbijQh6bf",
        "colab": {}
      },
      "source": [
        "trainsz = int(numsamples*0.5)\n",
        "valsz= int(numsamples*0.2)\n",
        "testsz= int(numsamples*0.3)\n",
        "batchsz = 100\n",
        "\n",
        "dataset = dataset.shuffle(numsamples,seed=13)\n",
        "\n",
        "train_data = dataset.take(trainsz)\n",
        "train_data = train_data.padded_batch(batchsz,padded_shapes=(([None],[None]),[]))\n",
        "\n",
        "val_data = dataset.skip(trainsz).take(valsz)\n",
        "val_data = val_data.padded_batch(batchsz,padded_shapes=(([None],[None]),[]))\n",
        "\n",
        "test_data = dataset.skip(trainsz+valsz)\n",
        "test_data = test_data.padded_batch(batchsz,padded_shapes=(([None],[None]),[]))"
      ],
      "execution_count": 0,
      "outputs": []
    },
    {
      "cell_type": "markdown",
      "metadata": {
        "colab_type": "text",
        "id": "Xdz7SVwmqi1l"
      },
      "source": [
        "Now, `train_data`, `val_data` and `test_data` are not collections of (`(source, target), label`) pairs, but collections of batches. Each batch is a pair of (*set of (source, target) sentences*, *set of labels*) represented as arrays. To illustrate this idea we take one batch from the dataset:"
      ]
    },
    {
      "cell_type": "code",
      "metadata": {
        "colab_type": "code",
        "id": "kMslWfuwoqpB",
        "colab": {}
      },
      "source": [
        "sample_bitext, sample_label = next(iter(test_data))"
      ],
      "execution_count": 0,
      "outputs": []
    },
    {
      "cell_type": "markdown",
      "metadata": {
        "id": "i_uTSbUz752e",
        "colab_type": "text"
      },
      "source": [
        "The sample_bitext is a tuple of (source sentences, target sentences) "
      ]
    },
    {
      "cell_type": "code",
      "metadata": {
        "id": "1yJOc8947kTf",
        "colab_type": "code",
        "colab": {}
      },
      "source": [
        "sample_bitext"
      ],
      "execution_count": 0,
      "outputs": []
    },
    {
      "cell_type": "markdown",
      "metadata": {
        "id": "HrmkXp4D8_jC",
        "colab_type": "text"
      },
      "source": [
        "The 10th source and target sentence of the batch..."
      ]
    },
    {
      "cell_type": "code",
      "metadata": {
        "id": "J_uAc6s47j5e",
        "colab_type": "code",
        "colab": {}
      },
      "source": [
        "sample_bitext[0][10], sample_bitext[1][10]"
      ],
      "execution_count": 0,
      "outputs": []
    },
    {
      "cell_type": "markdown",
      "metadata": {
        "id": "0C_ouchQ9gFx",
        "colab_type": "text"
      },
      "source": [
        "... and the corresponding label"
      ]
    },
    {
      "cell_type": "code",
      "metadata": {
        "id": "IHG4Zrff9kds",
        "colab_type": "code",
        "colab": {}
      },
      "source": [
        "sample_label[10]"
      ],
      "execution_count": 0,
      "outputs": []
    },
    {
      "cell_type": "markdown",
      "metadata": {
        "colab_type": "text",
        "id": "UI4I6_Sa0vWu"
      },
      "source": [
        "Since we have introduced a new token encoding (the zero used for padding), the vocabulary size has increased by one."
      ]
    },
    {
      "cell_type": "code",
      "metadata": {
        "colab_type": "code",
        "id": "IlD1Lli91vuc",
        "colab": {}
      },
      "source": [
        "src_vocab_size += 1\n",
        "trg_vocab_size += 1"
      ],
      "execution_count": 0,
      "outputs": []
    },
    {
      "cell_type": "markdown",
      "metadata": {
        "colab_type": "text",
        "id": "K8SUhGFNsmRi"
      },
      "source": [
        "## Build the model\n",
        "\n"
      ]
    },
    {
      "cell_type": "markdown",
      "metadata": {
        "id": "FJzcMswJskw4",
        "colab_type": "text"
      },
      "source": [
        "First, we define the input layers for the source sentence as an array of integers "
      ]
    },
    {
      "cell_type": "code",
      "metadata": {
        "id": "meB_9aDktC1Z",
        "colab_type": "code",
        "colab": {}
      },
      "source": [
        "src_input = tf.keras.layers.Input(shape=(None,), dtype='int32', name='src_input')\n"
      ],
      "execution_count": 0,
      "outputs": []
    },
    {
      "cell_type": "markdown",
      "metadata": {
        "id": "4Z3xBkeftYiK",
        "colab_type": "text"
      },
      "source": [
        "The embedding layer converts integer representations to dense vector embeddings. See the [word embeddings tutorial](../text/word_embeddings.ipynb) for more details."
      ]
    },
    {
      "cell_type": "code",
      "metadata": {
        "id": "vVOoc4M0tn8g",
        "colab_type": "code",
        "colab": {}
      },
      "source": [
        "src_embed = tf.keras.layers.Embedding(output_dim=16, input_dim=src_vocab_size)(src_input)"
      ],
      "execution_count": 0,
      "outputs": []
    },
    {
      "cell_type": "markdown",
      "metadata": {
        "id": "HpMFbQ8FuIFh",
        "colab_type": "text"
      },
      "source": [
        "The next layer is a shared [Long Short-Term Memory](http://colah.github.io/posts/2015-08-Understanding-LSTMs/) layer, which lets the model understand words in their context with other words. A bidirectional wrapper on the LSTM helps it to learn about the datapoints in relationship to the datapoints that came before it and after it."
      ]
    },
    {
      "cell_type": "code",
      "metadata": {
        "id": "lfHsvJtBuNdY",
        "colab_type": "code",
        "colab": {}
      },
      "source": [
        "blstm=tf.keras.layers.Bidirectional(tf.keras.layers.LSTM(16))\n",
        "src_blstm = blstm(src_embed)"
      ],
      "execution_count": 0,
      "outputs": []
    },
    {
      "cell_type": "markdown",
      "metadata": {
        "id": "0axBU7gDuRlU",
        "colab_type": "text"
      },
      "source": [
        "Target sentences undergo the same process as source sentences"
      ]
    },
    {
      "cell_type": "code",
      "metadata": {
        "id": "PGDQ7tuuu3xn",
        "colab_type": "code",
        "colab": {}
      },
      "source": [
        "trg_input = tf.keras.layers.Input(shape=(None,), dtype='int32', name='trg_input')\n",
        "trg_embed = tf.keras.layers.Embedding(output_dim=16, input_dim=trg_vocab_size)(trg_input)\n",
        "trg_blstm = blstm(trg_embed)"
      ],
      "execution_count": 0,
      "outputs": []
    },
    {
      "cell_type": "markdown",
      "metadata": {
        "id": "DNx2MQE0vBqG",
        "colab_type": "text"
      },
      "source": [
        "The output from the source and target BLSTM is concatenated"
      ]
    },
    {
      "cell_type": "code",
      "metadata": {
        "id": "KtS8nrWMwCME",
        "colab_type": "code",
        "colab": {}
      },
      "source": [
        "concat_blstm = tf.keras.layers.concatenate([src_blstm, trg_blstm])"
      ],
      "execution_count": 0,
      "outputs": []
    },
    {
      "cell_type": "markdown",
      "metadata": {
        "id": "Qvl_cErPwqiN",
        "colab_type": "text"
      },
      "source": [
        "The concatenation of source and target BLSTM is input into a dense feed-forward network"
      ]
    },
    {
      "cell_type": "code",
      "metadata": {
        "id": "T2fbQ0Q7wTLn",
        "colab_type": "code",
        "colab": {}
      },
      "source": [
        "units=32\n",
        "concat_dense = tf.keras.layers.Dense(units, activation='relu')(concat_blstm)"
      ],
      "execution_count": 0,
      "outputs": []
    },
    {
      "cell_type": "markdown",
      "metadata": {
        "id": "3gQyku7Kww9r",
        "colab_type": "text"
      },
      "source": [
        "More densely connected layers can be added"
      ]
    },
    {
      "cell_type": "code",
      "metadata": {
        "id": "vq4Z3QLuwF90",
        "colab_type": "code",
        "colab": {}
      },
      "source": [
        "for units in [32]:\n",
        "  concat_dense = tf.keras.layers.Dense(units, activation='relu')(concat_dense)"
      ],
      "execution_count": 0,
      "outputs": []
    },
    {
      "cell_type": "markdown",
      "metadata": {
        "id": "zsuNznLnxG-N",
        "colab_type": "text"
      },
      "source": [
        "The output layer produces a probability for all the labels. The one with the highest probability is the models prediction of an example's label."
      ]
    },
    {
      "cell_type": "code",
      "metadata": {
        "id": "G0ErESBRxNak",
        "colab_type": "code",
        "colab": {}
      },
      "source": [
        "concat_output = tf.keras.layers.Dense(num_classes, activation='softmax')(concat_dense)"
      ],
      "execution_count": 0,
      "outputs": []
    },
    {
      "cell_type": "markdown",
      "metadata": {
        "id": "wYy2Hk-PxWte",
        "colab_type": "text"
      },
      "source": [
        "Finally, the input and output of the model is defined."
      ]
    },
    {
      "cell_type": "code",
      "metadata": {
        "id": "rV1fjarSxb1x",
        "colab_type": "code",
        "colab": {}
      },
      "source": [
        "model = tf.keras.models.Model(inputs=[src_input, trg_input], outputs=concat_output)"
      ],
      "execution_count": 0,
      "outputs": []
    },
    {
      "cell_type": "markdown",
      "metadata": {
        "id": "slqOsS7ONKlj",
        "colab_type": "text"
      },
      "source": [
        "Summary of the model to know the number of parameters to be learnt"
      ]
    },
    {
      "cell_type": "code",
      "metadata": {
        "id": "gLg8nyZPNQTg",
        "colab_type": "code",
        "colab": {}
      },
      "source": [
        "model.summary()"
      ],
      "execution_count": 0,
      "outputs": []
    },
    {
      "cell_type": "markdown",
      "metadata": {
        "colab_type": "text",
        "id": "zLHPU8q5DLi_"
      },
      "source": [
        "Finally, compile the model. For a softmax categorization model, use `sparse_categorical_crossentropy` as the loss function. You can try other optimizers, but `adam` is very common."
      ]
    },
    {
      "cell_type": "code",
      "metadata": {
        "colab_type": "code",
        "id": "pkTBUVO4h6Y5",
        "colab": {}
      },
      "source": [
        "model.compile(optimizer='adam',\n",
        "              loss='sparse_categorical_crossentropy',\n",
        "              metrics=['accuracy'])"
      ],
      "execution_count": 0,
      "outputs": []
    },
    {
      "cell_type": "markdown",
      "metadata": {
        "colab_type": "text",
        "id": "DM-HLo5NDhql"
      },
      "source": [
        "## Train the model\n",
        "\n",
        "This model running on this data produces decent results (almost 99% on the validation set)."
      ]
    },
    {
      "cell_type": "code",
      "metadata": {
        "colab_type": "code",
        "id": "aLtO33tNh6V8",
        "colab": {}
      },
      "source": [
        "model.fit(train_data, epochs=10, validation_data=val_data)"
      ],
      "execution_count": 0,
      "outputs": []
    },
    {
      "cell_type": "markdown",
      "metadata": {
        "id": "iXMdJZMLPxPf",
        "colab_type": "text"
      },
      "source": [
        "##Evaluate the model\n",
        "\n",
        "Compute accuracy on the test set (accuracy about 99%)"
      ]
    },
    {
      "cell_type": "code",
      "metadata": {
        "colab_type": "code",
        "id": "KTPCYf_Jh6TH",
        "colab": {}
      },
      "source": [
        "eval_loss, eval_acc = model.evaluate(test_data)\n",
        "\n",
        "print('\\nEval loss: {:.3f}, Eval accuracy: {:.3f}'.format(eval_loss, eval_acc))"
      ],
      "execution_count": 0,
      "outputs": []
    }
  ]
}
